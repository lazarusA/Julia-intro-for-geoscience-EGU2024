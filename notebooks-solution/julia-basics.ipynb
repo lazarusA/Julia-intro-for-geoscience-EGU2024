{
 "cells": [
  {
   "cell_type": "markdown",
   "source": [
    "# Tool for the job: introduction to Julia\n",
    "\n",
    "![julia-logo](./figures/l1_julia-logo.png)"
   ],
   "metadata": {
    "name": "A slide ",
    "slideshow": {
     "slide_type": "slide"
    }
   }
  },
  {
   "cell_type": "markdown",
   "source": [
    "## Aside 1: Jupyter Notebooks\n",
    "\n",
    "These slides are a [Jupyter notebook](https://jupyter.org/); a browser-based computational notebook."
   ],
   "metadata": {
    "name": "A slide ",
    "slideshow": {
     "slide_type": "slide"
    }
   }
  },
  {
   "cell_type": "markdown",
   "source": [
    "> 💡 note: You can follow the lecture along live from the Moodle-based [JupyterHub](https://moodle-app2.let.ethz.ch/course/view.php?id=20175) server."
   ],
   "metadata": {}
  },
  {
   "cell_type": "markdown",
   "source": [
    "Code cells are executed by putting the cursor into the cell and hitting `shift + enter`.  For more\n",
    "info see the [documentation](https://jupyter-notebook.readthedocs.io/en/stable/)."
   ],
   "metadata": {}
  },
  {
   "cell_type": "markdown",
   "source": [
    "## Aside 2: What is your previous programming experience?\n",
    "\n",
    "1. Julia\n",
    "2. Matlab, Python, Octave, R, ...\n",
    "3. C, Fortran, ...\n",
    "4. Pascal, Java, C++, ...\n",
    "5. Lisp, Haskell, ...\n",
    "6. Assembler\n",
    "7. Coq, Brainfuck, ...\n",
    "\n",
    "[Google survey link](https://docs.google.com/forms/d/1ROOY4QLaL-_vM8eXKhCp72FCPfaTshfCrR2syv562BE/edit#responses)"
   ],
   "metadata": {
    "name": "A slide ",
    "slideshow": {
     "slide_type": "slide"
    }
   }
  },
  {
   "cell_type": "markdown",
   "source": [
    "## The Julia programming language\n",
    "\n",
    "[Julia](https://julialang.org/) is a modern, interactive, and high performance programming language.  It's a general purpose\n",
    "language with a bend on technical computing.\n",
    "\n",
    "![julia-logo](./figures/l1_julia-logo-repl.png)\n",
    "\n",
    "- first released in 2012\n",
    "- reached version 1.0 in 2018\n",
    "- current version 1.9.3 (09.2023) [ETH's JupyterHub is on 1.8]\n",
    "- thriving community, for instance there are currently around 10000 [packages registered](https://juliahub.com/ui/Packages)"
   ],
   "metadata": {
    "name": "A slide ",
    "slideshow": {
     "slide_type": "slide"
    }
   }
  },
  {
   "cell_type": "markdown",
   "source": [
    "### What does Julia look like\n",
    "\n",
    "An example solving the Lorenz system of ODEs:"
   ],
   "metadata": {
    "name": "A slide ",
    "slideshow": {
     "slide_type": "slide"
    }
   }
  },
  {
   "outputs": [],
   "cell_type": "code",
   "source": [
    "# using Plots\n",
    "\n",
    "function lorenz(x)\n",
    "    σ = 10\n",
    "    β = 8/3\n",
    "    ρ = 28\n",
    "    [σ*(x[2]-x[1]),\n",
    "     x[1]*(ρ-x[3]) - x[2],\n",
    "     x[1]*x[2] - β*x[3]]\n",
    "end\n",
    "\n",
    "# integrate dx/dt = lorenz(t,x) numerically for 500 steps\n",
    "dt = 0.01\n",
    "x₀ = [2.0, 0.0, 0.0]\n",
    "out = zeros(3, 500)\n",
    "out[:,1] = x₀\n",
    "for i=2:size(out,2)\n",
    "    out[:,i] = out[:,i-1] + lorenz(out[:,i-1]) * dt\n",
    "end"
   ],
   "metadata": {},
   "execution_count": 1
  },
  {
   "cell_type": "markdown",
   "source": [
    "Yes, this takes some time... Julia is Just-Ahead-of-Time compiled.  I.e. Julia is compiling.\n",
    "(Note that Julia 1.9 improved a lot with respect to compilation time.)"
   ],
   "metadata": {}
  },
  {
   "cell_type": "markdown",
   "source": [
    "And its solution plotted"
   ],
   "metadata": {
    "name": "A slide ",
    "slideshow": {
     "slide_type": "slide"
    }
   }
  },
  {
   "outputs": [],
   "cell_type": "code",
   "source": [
    "# plot(out[1,:], out[2,:], out[3,:])"
   ],
   "metadata": {},
   "execution_count": 2
  },
  {
   "cell_type": "markdown",
   "source": [
    "### Julia in brief\n",
    "Julia 1.0 released 2018, now at version 1.9\n",
    "\n",
    "Features:\n",
    "- general purpose language with a focus on technical computing\n",
    "- dynamic language\n",
    "  - interactive development\n",
    "  - garbage collection\n",
    "- good performance on par with C & Fortran\n",
    "  - just-ahead-of-time compiled via LLVM\n",
    "  - No need to vectorise: for loops are fast\n",
    "- multiple dispatch\n",
    "- user-defined types are as fast and compact as built-ins\n",
    "- Lisp-like macros and other metaprogramming facilities\n",
    "- designed for parallelism and distributed computation\n",
    "- good inter-op with other languages"
   ],
   "metadata": {
    "name": "A slide ",
    "slideshow": {
     "slide_type": "slide"
    }
   }
  },
  {
   "cell_type": "markdown",
   "source": [
    "### The two language problem\n",
    "\n",
    "**One language to prototype   --  one language for production**\n",
    "- example from Ludovic's past: prototype in Matlab, production in CUDA-C\n",
    "\n",
    "**One language for the users  --  one language for under-the-hood**\n",
    "- Numpy (python -- C)\n",
    "- machine-learning: pytorch, tensorflow"
   ],
   "metadata": {
    "name": "A slide ",
    "slideshow": {
     "slide_type": "slide"
    }
   }
  },
  {
   "cell_type": "markdown",
   "source": [
    "![](./figures/l1_ml.png)"
   ],
   "metadata": {
    "name": "A slide ",
    "slideshow": {
     "slide_type": "fragment"
    }
   }
  },
  {
   "cell_type": "markdown",
   "source": [
    "### The two language problem\n",
    "\n",
    "Prototype/interface language:\n",
    "- easy to learn and use\n",
    "- interactive\n",
    "- productive\n",
    "- --> *but slow*\n",
    "- Examples: Python, Matlab, R, IDL...\n",
    "\n",
    "Production/fast language:\n",
    "- fast\n",
    "- --> *but* complicated/verbose/not-interactive/etc\n",
    "- Examples: C, C++, Fortran, Java..."
   ],
   "metadata": {
    "name": "A slide ",
    "slideshow": {
     "slide_type": "slide"
    }
   }
  },
  {
   "cell_type": "markdown",
   "source": [
    "###  Julia solves the two-language problem\n",
    "\n",
    "Julia is:\n",
    "- easy to learn and use\n",
    "- interactive\n",
    "- productive\n",
    "\n",
    "and also:\n",
    "- fast"
   ],
   "metadata": {
    "name": "A slide ",
    "slideshow": {
     "slide_type": "slide"
    }
   }
  },
  {
   "cell_type": "markdown",
   "source": [
    "![](./figures/l1_flux-vs-tensorflow.png)"
   ],
   "metadata": {
    "name": "A slide ",
    "slideshow": {
     "slide_type": "fragment"
    }
   }
  },
  {
   "cell_type": "markdown",
   "source": [
    "###  Let's get our hands dirty!\n",
    "\n",
    "Fire up your JupyterHub, either via the [Moodle page](https://moodle-app2.let.ethz.ch/course/view.php?id=20175), or directly via [this link](https://jhub-let-04-20175.let.ethz.ch/hub/home).\n",
    "\n",
    "[Brief explanation on JupyterHub]"
   ],
   "metadata": {
    "name": "A slide ",
    "slideshow": {
     "slide_type": "slide"
    }
   }
  },
  {
   "cell_type": "markdown",
   "source": [
    "This notebook you can get onto your JupyterHub by\n",
    "\n",
    "- opening the hub\n",
    "- opening a terminal\n",
    "- pasting into the terminal `wget https://people.ee.ethz.ch/~werderm/l1.ipynb`\n",
    "\n",
    "Open it by clicking on it in the sidebar."
   ],
   "metadata": {
    "name": "A slide ",
    "slideshow": {
     "slide_type": "fragment"
    }
   }
  },
  {
   "cell_type": "markdown",
   "source": [
    "###  Let's get our hands dirty!\n",
    "\n",
    "We will now look at\n",
    "- variables and types\n",
    "- control flow\n",
    "- functions\n",
    "- modules and packages\n",
    "\n",
    "The documentation of Julia is good and can be found at [https://docs.julialang.org](https://docs.julialang.org); although for learning it might be a bit terse...\n",
    "\n",
    "There are also tutorials, see [https://julialang.org/learning/](https://julialang.org/learning/).\n",
    "\n",
    "Furthermore, documentation can be gotten with `?xyz`"
   ],
   "metadata": {
    "name": "A slide ",
    "slideshow": {
     "slide_type": "slide"
    }
   }
  },
  {
   "outputs": [],
   "cell_type": "code",
   "source": [
    "# ?cos"
   ],
   "metadata": {},
   "execution_count": 3
  },
  {
   "cell_type": "markdown",
   "source": [
    "## Variables, assignments, and types [5min]\n",
    "[https://docs.julialang.org/en/v1/manual/variables/](https://docs.julialang.org/en/v1/manual/variables/)"
   ],
   "metadata": {
    "name": "A slide ",
    "slideshow": {
     "slide_type": "slide"
    }
   }
  },
  {
   "outputs": [
    {
     "output_type": "execute_result",
     "data": {
      "text/plain": "\"a string\""
     },
     "metadata": {},
     "execution_count": 4
    }
   ],
   "cell_type": "code",
   "source": [
    "a = 4\n",
    "b = \"a string\"\n",
    "c = b # now b and c bind to the same value"
   ],
   "metadata": {},
   "execution_count": 4
  },
  {
   "cell_type": "markdown",
   "source": [
    "Conventions:\n",
    "- variables are (usually) lowercase, words can be separated by `_`\n",
    "- function names are lowercase\n",
    "- modules, packages and types are in CamelCase"
   ],
   "metadata": {}
  },
  {
   "cell_type": "markdown",
   "source": [
    "### Variables: Unicode\n",
    "From [https://docs.julialang.org/en/v1/manual/variables/](https://docs.julialang.org/en/v1/manual/variables/):\n",
    "\n",
    "Unicode names (in UTF-8 encoding) are allowed:\n",
    "\n",
    "```julia\n",
    "julia> δ = 0.00001\n",
    "1.0e-5\n",
    "\n",
    "julia> 안녕하세요 = \"Hello\"\n",
    "\"Hello\"\n",
    "```\n",
    "\n",
    "In the Julia REPL and several other Julia editing environments, you can type many Unicode math\n",
    "symbols by typing the backslashed LaTeX symbol name followed by tab. For example, the variable\n",
    "name `δ` can be entered by typing `\\delta`-*tab*, or even `α̂⁽²⁾` by `\\alpha`-*tab*-`\\hat`-\n",
    "*tab*-`\\^(2)`-*tab*. (If you find a symbol somewhere, e.g. in someone else's code,\n",
    "that you don't know how to type, the REPL help will tell you: just type `?` and\n",
    "then paste the symbol.)"
   ],
   "metadata": {
    "name": "A slide ",
    "slideshow": {
     "slide_type": "slide"
    }
   }
  },
  {
   "outputs": [],
   "cell_type": "code",
   "source": [
    "#"
   ],
   "metadata": {},
   "execution_count": 5
  },
  {
   "cell_type": "markdown",
   "source": [
    "### Basic datatypes\n",
    "- numbers (Ints, Floats, Complex, etc.)\n",
    "- strings\n",
    "- tuples\n",
    "- arrays\n",
    "- dictionaries"
   ],
   "metadata": {
    "name": "A slide ",
    "slideshow": {
     "slide_type": "slide"
    }
   }
  },
  {
   "outputs": [
    {
     "output_type": "execute_result",
     "data": {
      "text/plain": "1//2"
     },
     "metadata": {},
     "execution_count": 6
    }
   ],
   "cell_type": "code",
   "source": [
    "1     # 64 bit integer (or 32 bit if on a 32-bit OS)\n",
    "1.5   # Float64\n",
    "1//2  # Rational"
   ],
   "metadata": {},
   "execution_count": 6
  },
  {
   "outputs": [
    {
     "output_type": "execute_result",
     "data": {
      "text/plain": "Float64"
     },
     "metadata": {},
     "execution_count": 7
    }
   ],
   "cell_type": "code",
   "source": [
    "typeof(1.5)"
   ],
   "metadata": {},
   "execution_count": 7
  },
  {
   "outputs": [
    {
     "output_type": "execute_result",
     "data": {
      "text/plain": "(\"a string\", (1, 3.5))"
     },
     "metadata": {},
     "execution_count": 8
    }
   ],
   "cell_type": "code",
   "source": [
    "\"a string\", (1, 3.5) # and tuple"
   ],
   "metadata": {},
   "execution_count": 8
  },
  {
   "outputs": [
    {
     "output_type": "execute_result",
     "data": {
      "text/plain": "3-element Vector{Int64}:\n 1\n 2\n 3"
     },
     "metadata": {},
     "execution_count": 9
    }
   ],
   "cell_type": "code",
   "source": [
    "[1, 2, 3,] # array of eltype Int"
   ],
   "metadata": {},
   "execution_count": 9
  },
  {
   "outputs": [
    {
     "output_type": "execute_result",
     "data": {
      "text/plain": "Dict{String, Any} with 2 entries:\n  \"b\" => cos\n  \"a\" => 1"
     },
     "metadata": {},
     "execution_count": 10
    }
   ],
   "cell_type": "code",
   "source": [
    "Dict(\"a\"=>1, \"b\"=>cos)"
   ],
   "metadata": {},
   "execution_count": 10
  },
  {
   "cell_type": "markdown",
   "source": [
    "## Array exercises [15min]\n",
    "\n",
    "We will use arrays extensively in this course.\n",
    "\n",
    "Datatypes belonging to AbstactArrays:\n",
    "- `Array` (with aliases `Vector`, `Matrix`)\n",
    "- `Range`\n",
    "- GPU arrays, static arrays, etc"
   ],
   "metadata": {
    "name": "A slide ",
    "slideshow": {
     "slide_type": "slide"
    }
   }
  },
  {
   "cell_type": "markdown",
   "source": [
    "Task: assign two vectors to `a`, and `b` and the concatenate them using `;`:"
   ],
   "metadata": {}
  },
  {
   "outputs": [
    {
     "output_type": "execute_result",
     "data": {
      "text/plain": "4-element Vector{Int64}:\n 2\n 3\n 4\n 5"
     },
     "metadata": {},
     "execution_count": 11
    }
   ],
   "cell_type": "code",
   "source": [
    "a = [2, 3]\n",
    "b = [4, 5]\n",
    "[a ; b]"
   ],
   "metadata": {},
   "execution_count": 11
  },
  {
   "cell_type": "markdown",
   "source": [
    "Add new elements to the end of Vector `b` (hint look up the documentation for `push!`)"
   ],
   "metadata": {}
  },
  {
   "outputs": [
    {
     "output_type": "execute_result",
     "data": {
      "text/plain": "5-element Vector{Int64}:\n 4\n 5\n 1\n 3\n 4"
     },
     "metadata": {},
     "execution_count": 12
    }
   ],
   "cell_type": "code",
   "source": [
    "push!(b, 1)\n",
    "push!(b, 3, 4)"
   ],
   "metadata": {},
   "execution_count": 12
  },
  {
   "cell_type": "markdown",
   "source": [
    "### Array exercises\n",
    "\n",
    "Concatenate a Range, say `1:10`, with a Vector, say [4,5]:"
   ],
   "metadata": {
    "name": "A slide ",
    "slideshow": {
     "slide_type": "subslide"
    }
   }
  },
  {
   "outputs": [
    {
     "output_type": "execute_result",
     "data": {
      "text/plain": "12-element Vector{Int64}:\n  1\n  2\n  3\n  4\n  5\n  6\n  7\n  8\n  9\n 10\n  4\n  5"
     },
     "metadata": {},
     "execution_count": 13
    }
   ],
   "cell_type": "code",
   "source": [
    "[1:10; [4,5]]"
   ],
   "metadata": {},
   "execution_count": 13
  },
  {
   "cell_type": "markdown",
   "source": [
    "Make a random array of size (3,3).  Look up `?rand`.  Assign it to `a`"
   ],
   "metadata": {}
  },
  {
   "outputs": [
    {
     "output_type": "execute_result",
     "data": {
      "text/plain": "3×3 Matrix{Float64}:\n 0.824852  0.036515  0.564146\n 0.144864  0.8762    0.931263\n 0.692635  0.103627  0.811275"
     },
     "metadata": {},
     "execution_count": 14
    }
   ],
   "cell_type": "code",
   "source": [
    "a = rand(3,3)"
   ],
   "metadata": {},
   "execution_count": 14
  },
  {
   "cell_type": "markdown",
   "source": [
    "### Array exercise: indexing\n",
    "\n",
    "Access element `[1,2]` and `[2,1]` of Matrix `a` (hint use []):"
   ],
   "metadata": {
    "name": "A slide ",
    "slideshow": {
     "slide_type": "subslide"
    }
   }
  },
  {
   "outputs": [
    {
     "output_type": "execute_result",
     "data": {
      "text/plain": "(0.036515035564673504, 0.1448635358603696)"
     },
     "metadata": {},
     "execution_count": 15
    }
   ],
   "cell_type": "code",
   "source": [
    "a[1,2], a[2,1]"
   ],
   "metadata": {},
   "execution_count": 15
  },
  {
   "cell_type": "markdown",
   "source": [
    "Put those two values into a vector"
   ],
   "metadata": {}
  },
  {
   "outputs": [
    {
     "output_type": "execute_result",
     "data": {
      "text/plain": "2-element Vector{Float64}:\n 0.036515035564673504\n 0.1448635358603696"
     },
     "metadata": {},
     "execution_count": 16
    }
   ],
   "cell_type": "code",
   "source": [
    "[ a[1,2], a[2,1] ]"
   ],
   "metadata": {},
   "execution_count": 16
  },
  {
   "cell_type": "markdown",
   "source": [
    "Linear vs Cartesian indexing,\n",
    "access the first element:"
   ],
   "metadata": {}
  },
  {
   "outputs": [
    {
     "output_type": "execute_result",
     "data": {
      "text/plain": "0.824852409212429"
     },
     "metadata": {},
     "execution_count": 17
    }
   ],
   "cell_type": "code",
   "source": [
    "a[1]\n",
    "a[1,1]"
   ],
   "metadata": {},
   "execution_count": 17
  },
  {
   "cell_type": "markdown",
   "source": [
    "Access the last element (look up `?end`) both with linear and Cartesian indices"
   ],
   "metadata": {}
  },
  {
   "outputs": [
    {
     "output_type": "execute_result",
     "data": {
      "text/plain": "0.8112751056954159"
     },
     "metadata": {},
     "execution_count": 18
    }
   ],
   "cell_type": "code",
   "source": [
    "a[end]\n",
    "a[end, end]"
   ],
   "metadata": {},
   "execution_count": 18
  },
  {
   "cell_type": "markdown",
   "source": [
    "### Array exercise: indexing by ranges\n",
    "\n",
    "Access the last row of `a` (hint use `1:end`)"
   ],
   "metadata": {
    "name": "A slide ",
    "slideshow": {
     "slide_type": "subslide"
    }
   }
  },
  {
   "outputs": [
    {
     "output_type": "execute_result",
     "data": {
      "text/plain": "3-element Vector{Float64}:\n 0.6926349244682983\n 0.10362682125183609\n 0.8112751056954159"
     },
     "metadata": {},
     "execution_count": 19
    }
   ],
   "cell_type": "code",
   "source": [
    "a[end, 1:end]"
   ],
   "metadata": {},
   "execution_count": 19
  },
  {
   "cell_type": "markdown",
   "source": [
    "Access a 2x2 sub-matrix"
   ],
   "metadata": {}
  },
  {
   "outputs": [
    {
     "output_type": "execute_result",
     "data": {
      "text/plain": "2×2 Matrix{Float64}:\n 0.824852  0.036515\n 0.144864  0.8762"
     },
     "metadata": {},
     "execution_count": 20
    }
   ],
   "cell_type": "code",
   "source": [
    "a[1:2, 1:2]"
   ],
   "metadata": {},
   "execution_count": 20
  },
  {
   "cell_type": "markdown",
   "source": [
    "### Array exercises: variable bindings and views\n",
    "\n",
    "What do you make of"
   ],
   "metadata": {
    "name": "A slide ",
    "slideshow": {
     "slide_type": "subslide"
    }
   }
  },
  {
   "outputs": [],
   "cell_type": "code",
   "source": [
    "a = [1 4; 3 4] # note, this is another way to define a Matrix\n",
    "c = a\n",
    "a[1, 2] = 99\n",
    "@assert c[1,2] == a[1,2]"
   ],
   "metadata": {},
   "execution_count": 21
  },
  {
   "cell_type": "markdown",
   "source": [
    "Type your answer here (to start editing, double click into this cell.  When done shift+enter):"
   ],
   "metadata": {}
  },
  {
   "cell_type": "markdown",
   "source": [
    "### Array exercises: variable bindings and views\n",
    "\n",
    "An assignment _binds_ the same array to both variables"
   ],
   "metadata": {
    "name": "A slide ",
    "slideshow": {
     "slide_type": "subslide"
    }
   }
  },
  {
   "outputs": [],
   "cell_type": "code",
   "source": [
    "c = a\n",
    "c[1] = 8\n",
    "@assert a[1]==8 # as c and a are the same thing\n",
    "@assert a===c  # note the triple `=`"
   ],
   "metadata": {},
   "execution_count": 22
  },
  {
   "cell_type": "markdown",
   "source": [
    "Views vs copies:\n",
    "\n",
    "In Julia indexing with ranges will create a new array with copies of\n",
    "the original's entries. Consider"
   ],
   "metadata": {}
  },
  {
   "outputs": [],
   "cell_type": "code",
   "source": [
    "a = rand(3,4)\n",
    "b = a[1:3, 1:2]\n",
    "b[1] = 99\n",
    "@assert a[1] != b[1]"
   ],
   "metadata": {},
   "execution_count": 23
  },
  {
   "cell_type": "markdown",
   "source": [
    "### Array exercises: variable bindings and views\n",
    "\n",
    "But the memory footprint will be large if we work with large arrays and take sub-arrays of them.\n",
    "\n",
    "Views to the rescue"
   ],
   "metadata": {
    "name": "A slide ",
    "slideshow": {
     "slide_type": "subslide"
    }
   }
  },
  {
   "outputs": [
    {
     "output_type": "execute_result",
     "data": {
      "text/plain": "99"
     },
     "metadata": {},
     "execution_count": 24
    }
   ],
   "cell_type": "code",
   "source": [
    "a = rand(3,4)\n",
    "b = @view a[1:3, 1:2]\n",
    "b[1] = 99"
   ],
   "metadata": {},
   "execution_count": 24
  },
  {
   "cell_type": "markdown",
   "source": [
    "check whether the change in `b` is reflected in `a`:"
   ],
   "metadata": {}
  },
  {
   "outputs": [],
   "cell_type": "code",
   "source": [
    "@assert a[1] == 99"
   ],
   "metadata": {},
   "execution_count": 25
  },
  {
   "cell_type": "markdown",
   "source": [
    "### A small detour: types\n",
    "\n",
    "All values have types as we saw above.  Arrays store in their type what type the elements can be.\n",
    "\n",
    "> Arrays which have concrete element-types are more performant!"
   ],
   "metadata": {
    "name": "A slide ",
    "slideshow": {
     "slide_type": "subslide"
    }
   }
  },
  {
   "outputs": [
    {
     "output_type": "execute_result",
     "data": {
      "text/plain": "(Vector{Int64}, Vector{Float64})"
     },
     "metadata": {},
     "execution_count": 26
    }
   ],
   "cell_type": "code",
   "source": [
    "typeof([1, 2]), typeof([1.0, 2.0])"
   ],
   "metadata": {},
   "execution_count": 26
  },
  {
   "cell_type": "markdown",
   "source": [
    "Aside, they also store their dimension in the second parameter.\n",
    "\n",
    "The type can be specified at creation"
   ],
   "metadata": {}
  },
  {
   "outputs": [
    {
     "output_type": "execute_result",
     "data": {
      "text/plain": "2-element Vector{String}:\n \"one\"\n \"two\""
     },
     "metadata": {},
     "execution_count": 27
    }
   ],
   "cell_type": "code",
   "source": [
    "String[\"one\", \"two\"]"
   ],
   "metadata": {},
   "execution_count": 27
  },
  {
   "cell_type": "markdown",
   "source": [
    "Create an array taking `Int` with no elements.  Push `1`, `1.0` and `1.5` to it.  What happens?"
   ],
   "metadata": {}
  },
  {
   "outputs": [
    {
     "output_type": "execute_result",
     "data": {
      "text/plain": "2-element Vector{Int64}:\n 1\n 1"
     },
     "metadata": {},
     "execution_count": 28
    }
   ],
   "cell_type": "code",
   "source": [
    "a = Int[]\n",
    "push!(a, 1) ## works\n",
    "push!(a, 1.0) ## works"
   ],
   "metadata": {},
   "execution_count": 28
  },
  {
   "cell_type": "markdown",
   "source": [
    "push!(a, 1.5) ## would error as 1.5 cannot be converted to an Int"
   ],
   "metadata": {}
  },
  {
   "cell_type": "markdown",
   "source": [
    "Make an array of type `Any` (which can store any value).  Push a value of type\n",
    "Int and one of type String to it."
   ],
   "metadata": {}
  },
  {
   "outputs": [
    {
     "output_type": "execute_result",
     "data": {
      "text/plain": "2-element Vector{Any}:\n 5\n  \"a\""
     },
     "metadata": {},
     "execution_count": 29
    }
   ],
   "cell_type": "code",
   "source": [
    "a = []\n",
    "push!(a, 5)\n",
    "push!(a, \"a\")"
   ],
   "metadata": {},
   "execution_count": 29
  },
  {
   "cell_type": "markdown",
   "source": [
    "Try to assgin 1.5 to the first element of an array of type Array{Int,1}"
   ],
   "metadata": {}
  },
  {
   "cell_type": "markdown",
   "source": [
    "[1][1] = 1.5 ## would error"
   ],
   "metadata": {}
  },
  {
   "cell_type": "markdown",
   "source": [
    "### Array exercises\n",
    "\n",
    "Create a uninitialised Matrix of size (3,3) and assign it to `a`.\n",
    "First look up the docs of Array with `?Array`"
   ],
   "metadata": {
    "name": "A slide ",
    "slideshow": {
     "slide_type": "subslide"
    }
   }
  },
  {
   "outputs": [
    {
     "output_type": "execute_result",
     "data": {
      "text/plain": "3×3 Matrix{Any}:\n #undef  #undef  #undef\n #undef  #undef  #undef\n #undef  #undef  #undef"
     },
     "metadata": {},
     "execution_count": 30
    }
   ],
   "cell_type": "code",
   "source": [
    "a = Array{Any}(undef, 3, 3)"
   ],
   "metadata": {},
   "execution_count": 30
  },
  {
   "cell_type": "markdown",
   "source": [
    "Test that its size is correct, see `size`"
   ],
   "metadata": {}
  },
  {
   "outputs": [
    {
     "output_type": "execute_result",
     "data": {
      "text/plain": "(3, 3)"
     },
     "metadata": {},
     "execution_count": 31
    }
   ],
   "cell_type": "code",
   "source": [
    "size(a)"
   ],
   "metadata": {},
   "execution_count": 31
  },
  {
   "cell_type": "markdown",
   "source": [
    "### Array exercises: ALL DONE\n",
    "\n",
    "The rest about Arrays you will learn-by-doing."
   ],
   "metadata": {
    "name": "A slide ",
    "slideshow": {
     "slide_type": "subslide"
    }
   }
  },
  {
   "cell_type": "markdown",
   "source": [
    "## Control flow [10min]\n",
    "\n",
    "Julia provides a variety of [control flow constructs](https://docs.julialang.org/en/v1/manual/control-flow/), of which we look at:\n",
    "\n",
    "  * [Conditional Evaluation](https://docs.julialang.org/en/v1/manual/control-flow/#man-conditional-evaluation): `if`-`elseif`-`else` and `?:` (ternary operator).\n",
    "  * [Short-Circuit Evaluation](https://docs.julialang.org/en/v1/manual/control-flow/#Short-Circuit-Evaluation): logical operators `&&` (“and”) and `||` (“or”), and also chained comparisons.\n",
    "  * [Repeated Evaluation: Loops](https://docs.julialang.org/en/v1/manual/control-flow/#man-loops): `while` and `for`."
   ],
   "metadata": {
    "name": "A slide ",
    "slideshow": {
     "slide_type": "slide"
    }
   }
  },
  {
   "cell_type": "markdown",
   "source": [
    "### Conditional evaluation\n",
    "\n",
    "Read the first paragraph of\n",
    "[https://docs.julialang.org/en/v1/manual/control-flow/#man-conditional-evaluation](https://docs.julialang.org/en/v1/manual/control-flow/#man-conditional-evaluation)\n",
    "(up to \"... and no further condition expressions or blocks are evaluated.\")"
   ],
   "metadata": {
    "name": "A slide ",
    "slideshow": {
     "slide_type": "slide"
    }
   }
  },
  {
   "cell_type": "markdown",
   "source": [
    "Write a test which looks at the start of the string in variable `a`\n",
    "(?startswith) and sets `b` accordingly.  If the start is\n",
    "- \"Wh\" then set `b = \"Likely a question\"`\n",
    "- \"The \" then set `b = \"A noun\"`\n",
    "- otherwise set `b = \"no idea\"`"
   ],
   "metadata": {}
  },
  {
   "outputs": [
    {
     "output_type": "execute_result",
     "data": {
      "text/plain": "\"Likely a question\""
     },
     "metadata": {},
     "execution_count": 32
    }
   ],
   "cell_type": "code",
   "source": [
    "a = \"Where are the flowers\"\n",
    "if startswith(a, \"Wh\")\n",
    "  b = \"Likely a question\"\n",
    "elseif startswith(a, \"The\")\n",
    "  b = \"Likely a noun\"\n",
    "else\n",
    "  b = \"no idea\"\n",
    "end"
   ],
   "metadata": {},
   "execution_count": 32
  },
  {
   "cell_type": "markdown",
   "source": [
    "### Conditional evaluation: the \"ternary operator\" `?`\n",
    "\n",
    "Look up the docs for `?` (i.e. evaluate `??`)"
   ],
   "metadata": {
    "name": "A slide ",
    "slideshow": {
     "slide_type": "subslide"
    }
   }
  },
  {
   "outputs": [
    {
     "output_type": "execute_result",
     "data": {
      "text/plain": "\"not so big\""
     },
     "metadata": {},
     "execution_count": 33
    }
   ],
   "cell_type": "code",
   "source": [
    "a = 1\n",
    "a > 5 ? \"really big\" : \"not so big\""
   ],
   "metadata": {},
   "execution_count": 33
  },
  {
   "cell_type": "markdown",
   "source": [
    "### Short circuit operators `&&` and `||`\n",
    "\n",
    "Read [https://docs.julialang.org/en/v1/manual/control-flow/#Short-Circuit-Evaluation](https://docs.julialang.org/en/v1/manual/control-flow/#Short-Circuit-Evaluation)\n",
    "\n",
    "Explain what this does\n",
    "\n",
    "```\n",
    "a < 0 && error(\"Not valid input for `a`\")\n",
    "```"
   ],
   "metadata": {
    "name": "A slide ",
    "slideshow": {
     "slide_type": "slide"
    }
   }
  },
  {
   "cell_type": "markdown",
   "source": [
    "Type your answer here (to start editing, double click into this cell.  When done shift+enter):"
   ],
   "metadata": {}
  },
  {
   "cell_type": "markdown",
   "source": [
    "If `a < 0` evaluates to `true` then the bit after the `&&` is evaluated too,\n",
    "i.e. an error is thrown.  Otherwise, only `a < 0` is evaluated and no error is thrown."
   ],
   "metadata": {}
  },
  {
   "cell_type": "markdown",
   "source": [
    "### Loops: `for` and `while`\n",
    "\n",
    "[https://docs.julialang.org/en/v1/manual/control-flow/#man-loops](https://docs.julialang.org/en/v1/manual/control-flow/#man-loops)"
   ],
   "metadata": {
    "name": "A slide ",
    "slideshow": {
     "slide_type": "slide"
    }
   }
  },
  {
   "outputs": [
    {
     "name": "stdout",
     "output_type": "stream",
     "text": [
      "1\n",
      "2\n",
      "3\n",
      "dog\n",
      "cat\n",
      "1\n",
      "2\n",
      "3\n"
     ]
    }
   ],
   "cell_type": "code",
   "source": [
    "for i = 1:3\n",
    "    println(i)\n",
    "end\n",
    "\n",
    "for i in [\"dog\", \"cat\"] ## `in` and `=` are equivalent for writing loops\n",
    "    println(i)\n",
    "end\n",
    "\n",
    "i = 1\n",
    "while i<4\n",
    "    println(i)\n",
    "    i += 1\n",
    "end"
   ],
   "metadata": {},
   "execution_count": 34
  },
  {
   "cell_type": "markdown",
   "source": [
    "## Functions [15min]\n",
    "\n",
    "Functions can be defined in Julia in a number of ways.  In particular there is one variant\n",
    "more suited to longer definitions, and one for one-liners:\n",
    "\n",
    "```\n",
    "function f(a, b)\n",
    "   return a * b\n",
    "end\n",
    "f(a, b) = a * b\n",
    "```\n",
    "\n",
    "Defining many, short functions is typical in good Julia code.\n",
    "\n",
    "Read [https://docs.julialang.org/en/v1/manual/functions/](https://docs.julialang.org/en/v1/manual/functions/) up to an including \"The return Keyword\""
   ],
   "metadata": {
    "name": "A slide ",
    "slideshow": {
     "slide_type": "slide"
    }
   }
  },
  {
   "cell_type": "markdown",
   "source": [
    "### Functions: exercises\n",
    "\n",
    "Define a function in long-form which takes two arguments.\n",
    "Use some if-else statements and the return keyword."
   ],
   "metadata": {
    "name": "A slide ",
    "slideshow": {
     "slide_type": "subslide"
    }
   }
  },
  {
   "outputs": [
    {
     "output_type": "execute_result",
     "data": {
      "text/plain": "fn (generic function with 1 method)"
     },
     "metadata": {},
     "execution_count": 35
    }
   ],
   "cell_type": "code",
   "source": [
    "function fn(a, b)\n",
    "  if a> b\n",
    "    return a\n",
    "  else\n",
    "    return b\n",
    "  end\n",
    "end"
   ],
   "metadata": {},
   "execution_count": 35
  },
  {
   "cell_type": "markdown",
   "source": [
    "### Functions: exercises\n",
    "\n",
    "Re-define the `map` function.  First look up what it does `?map`, then create a `mymap` which\n",
    "does the same.  Map `sin` over the vector `1:10`.\n",
    "\n",
    "(Note, this is a higher-order function: a function which take a function as a argument)"
   ],
   "metadata": {
    "name": "A slide ",
    "slideshow": {
     "slide_type": "subslide"
    }
   }
  },
  {
   "outputs": [
    {
     "output_type": "execute_result",
     "data": {
      "text/plain": "10-element Vector{Float64}:\n  0.8414709848078965\n  0.9092974268256817\n  0.1411200080598672\n -0.7568024953079282\n -0.9589242746631385\n -0.27941549819892586\n  0.6569865987187891\n  0.9893582466233818\n  0.4121184852417566\n -0.5440211108893698"
     },
     "metadata": {},
     "execution_count": 36
    }
   ],
   "cell_type": "code",
   "source": [
    "mymap(fn, a) = [fn(aa) for aa in a]\n",
    "mymap(sin, 1:10)"
   ],
   "metadata": {},
   "execution_count": 36
  },
  {
   "cell_type": "markdown",
   "source": [
    "### Functions: dot-syntax\n",
    "\n",
    "This is really similar to the `map` function, a short-hand to map/broadcast a\n",
    "function over values.\n",
    "\n",
    "Exercise: apply the `sin` function to a vector `1:10`:"
   ],
   "metadata": {
    "name": "A slide ",
    "slideshow": {
     "slide_type": "subslide"
    }
   }
  },
  {
   "outputs": [],
   "cell_type": "code",
   "source": [
    "#sol=sin.(1:10)"
   ],
   "metadata": {},
   "execution_count": 37
  },
  {
   "cell_type": "markdown",
   "source": [
    "Broadcasting will extend row and column vectors into a matrix.\n",
    "Try `(1:10) .+ (1:10)'`  (Note the `'`, this is the transpose operator)"
   ],
   "metadata": {}
  },
  {
   "outputs": [],
   "cell_type": "code",
   "source": [
    "#sol=(1:10) .+ (1:10)'"
   ],
   "metadata": {},
   "execution_count": 38
  },
  {
   "cell_type": "markdown",
   "source": [
    "### Functions: dot-syntax exercise\n",
    "\n",
    "Evaluate the function `sin(x) + cos(y)` for\n",
    "`x = 0:0.1:pi` and `y = -pi:0.1:pi`.  Remember to use `'`."
   ],
   "metadata": {
    "name": "A slide ",
    "slideshow": {
     "slide_type": "subslide"
    }
   }
  },
  {
   "outputs": [],
   "cell_type": "code",
   "source": [
    "#sol=x,y = 0:0.1:pi, -pi:0.1:pi\n",
    "#sol=sin.(x) .+ cos.(y')"
   ],
   "metadata": {},
   "execution_count": 39
  },
  {
   "cell_type": "markdown",
   "source": [
    "### Functions: anonymous functions\n",
    "\n",
    "So far our function got a name with the definition. They can also be defined without name.\n",
    "\n",
    "Read [https://docs.julialang.org/en/v1/manual/functions/#man-anonymous-functions](https://docs.julialang.org/en/v1/manual/functions/#man-anonymous-functions)\n",
    "\n",
    "Map the function `f(x,y) = sin(x) + cos(x)` over `1:10` but define it as an anonymous\n",
    "function."
   ],
   "metadata": {
    "name": "A slide ",
    "slideshow": {
     "slide_type": "subslide"
    }
   }
  },
  {
   "outputs": [
    {
     "output_type": "execute_result",
     "data": {
      "text/plain": "10-element Vector{Float64}:\n  1.3817732906760363\n  0.4931505902785393\n -0.8488724885405782\n -1.4104461161715403\n -0.6752620891999122\n  0.6807547884514401\n  1.4108888530620938\n  0.8438582128147682\n -0.49901177664292035\n -1.383092639965822"
     },
     "metadata": {},
     "execution_count": 40
    }
   ],
   "cell_type": "code",
   "source": [
    "map(x -> sin(x) + cos(x), 1:10)"
   ],
   "metadata": {},
   "execution_count": 40
  },
  {
   "cell_type": "markdown",
   "source": [
    "### Key feature: multiple dispatch functions\n",
    "\n",
    "- Julia is not an object oriented language\n",
    "\n",
    "OO:\n",
    "- methods belong to objects\n",
    "- method is selected based on first argument (e.g. `self` in Python)\n",
    "\n",
    "Multiple dispatch:\n",
    "- methods are separate from objects\n",
    "- are selected based on all arguments\n",
    "- similar to overloading but method selection occurs at runtime and not compile-time (see also video below)\n",
    "> very natural for mathematical programming\n",
    "\n",
    "JuliaCon 2019 presentation on the subject by Stefan Karpinski\n",
    "(co-creator of Julia):\n",
    "\n",
    "[\"The Unreasonable Effectiveness of Multiple Dispatch\"](https://www.youtube.com/watch?v=kc9HwsxE1OY)"
   ],
   "metadata": {
    "name": "A slide ",
    "slideshow": {
     "slide_type": "subslide"
    }
   }
  },
  {
   "cell_type": "markdown",
   "source": [
    "## Functions: Multiple dispatch demo"
   ],
   "metadata": {
    "name": "A slide ",
    "slideshow": {
     "slide_type": "subslide"
    }
   }
  },
  {
   "outputs": [
    {
     "output_type": "execute_result",
     "data": {
      "text/plain": "\"Rock wins\""
     },
     "metadata": {},
     "execution_count": 41
    }
   ],
   "cell_type": "code",
   "source": [
    "struct Rock end\n",
    "struct Paper end\n",
    "struct Scissors end\n",
    "### of course structs could have fields as well\n",
    "# struct Rock\n",
    "#     color\n",
    "#     name::String\n",
    "#     density::Float64\n",
    "# end\n",
    "\n",
    "# define multi-method\n",
    "play(::Rock, ::Paper) = \"Paper wins\"\n",
    "play(::Rock, ::Scissors) = \"Rock wins\"\n",
    "play(::Scissors, ::Paper) = \"Scissors wins\"\n",
    "play(a, b) = play(b, a) # commutative\n",
    "\n",
    "play(Scissors(), Rock())"
   ],
   "metadata": {},
   "execution_count": 41
  },
  {
   "cell_type": "markdown",
   "source": [
    "### Multiple dispatch demo\n",
    "Can easily be extended later\n",
    "\n",
    "with new type:"
   ],
   "metadata": {
    "name": "A slide ",
    "slideshow": {
     "slide_type": "subslide"
    }
   }
  },
  {
   "outputs": [
    {
     "output_type": "execute_result",
     "data": {
      "text/plain": "\"Pond wins\""
     },
     "metadata": {},
     "execution_count": 42
    }
   ],
   "cell_type": "code",
   "source": [
    "struct Pond end\n",
    "play(::Rock, ::Pond) = \"Pond wins\"\n",
    "play(::Paper, ::Pond) = \"Paper wins\"\n",
    "play(::Scissors, ::Pond) = \"Pond wins\"\n",
    "\n",
    "play(Scissors(), Pond())"
   ],
   "metadata": {},
   "execution_count": 42
  },
  {
   "cell_type": "markdown",
   "source": [
    "with new function:"
   ],
   "metadata": {
    "name": "A slide ",
    "slideshow": {
     "slide_type": "fragment"
    }
   }
  },
  {
   "outputs": [
    {
     "output_type": "execute_result",
     "data": {
      "text/plain": "\"Paperweight\""
     },
     "metadata": {},
     "execution_count": 43
    }
   ],
   "cell_type": "code",
   "source": [
    "combine(::Rock, ::Paper) = \"Paperweight\"\n",
    "combine(::Paper, ::Scissors) = \"Two pieces of papers\"\n",
    "# ...\n",
    "\n",
    "combine(Rock(), Paper())"
   ],
   "metadata": {},
   "execution_count": 43
  },
  {
   "cell_type": "markdown",
   "source": [
    "*Multiple dispatch makes Julia packages very composable!*\n",
    "\n",
    "This is a key characteristic of the Julia package ecosystem."
   ],
   "metadata": {
    "name": "A slide ",
    "slideshow": {
     "slide_type": "fragment"
    }
   }
  },
  {
   "cell_type": "markdown",
   "source": [
    "## Modules and packages [5min]\n",
    "\n",
    "Modules can be used to structure code into larger entities, and be used to divide it into\n",
    "different name spaces.  We will not make much use of those, but if interested see\n",
    "[https://docs.julialang.org/en/v1/manual/modules/](https://docs.julialang.org/en/v1/manual/modules/)\n",
    "\n",
    "**Packages** are the way people distribute code and we'll make use of them extensively.\n",
    "In the first example, the Lorenz ODE, you saw\n",
    "```\n",
    "using Plots\n",
    "```\n",
    "This statement loads the package `Plots` and makes its functions\n",
    "and types available in the current session and use it like so:"
   ],
   "metadata": {
    "name": "A slide ",
    "slideshow": {
     "slide_type": "slide"
    }
   }
  },
  {
   "outputs": [
    {
     "output_type": "execute_result",
     "data": {
      "text/plain": "Plot{Plots.GRBackend() n=1}",
      "image/png": "[encoded data removed]",
      "text/html": [
       "<?xml version=\"1.0\" encoding=\"utf-8\"?>\n",
       "<svg xmlns=\"http://www.w3.org/2000/svg\" xmlns:xlink=\"http://www.w3.org/1999/xlink\" width=\"600\" height=\"400\" viewBox=\"0 0 2400 1600\">\n",
       "<defs>\n",
       "  <clipPath id=\"clip580\">\n",
       "    <rect x=\"0\" y=\"0\" width=\"2400\" height=\"1600\"/>\n",
       "  </clipPath>\n",
       "</defs>\n",
       "<path clip-path=\"url(#clip580)\" d=\"M0 1600 L2400 1600 L2400 0 L0 0  Z\" fill=\"#ffffff\" fill-rule=\"evenodd\" fill-opacity=\"1\"/>\n",
       "<defs>\n",
       "  <clipPath id=\"clip581\">\n",
       "    <rect x=\"480\" y=\"0\" width=\"1681\" height=\"1600\"/>\n",
       "  </clipPath>\n",
       "</defs>\n",
       "<path clip-path=\"url(#clip580)\" d=\"M169.121 1486.45 L2352.76 1486.45 L2352.76 47.2441 L169.121 47.2441  Z\" fill=\"#ffffff\" fill-rule=\"evenodd\" fill-opacity=\"1\"/>\n",
       "<defs>\n",
       "  <clipPath id=\"clip582\">\n",
       "    <rect x=\"169\" y=\"47\" width=\"2185\" height=\"1440\"/>\n",
       "  </clipPath>\n",
       "</defs>\n",
       "<polyline clip-path=\"url(#clip582)\" style=\"stroke:#000000; stroke-linecap:round; stroke-linejoin:round; stroke-width:2; stroke-opacity:0.1; fill:none\" points=\"459.815,1486.45 459.815,47.2441 \"/>\n",
       "<polyline clip-path=\"url(#clip582)\" style=\"stroke:#000000; stroke-linecap:round; stroke-linejoin:round; stroke-width:2; stroke-opacity:0.1; fill:none\" points=\"917.6,1486.45 917.6,47.2441 \"/>\n",
       "<polyline clip-path=\"url(#clip582)\" style=\"stroke:#000000; stroke-linecap:round; stroke-linejoin:round; stroke-width:2; stroke-opacity:0.1; fill:none\" points=\"1375.38,1486.45 1375.38,47.2441 \"/>\n",
       "<polyline clip-path=\"url(#clip582)\" style=\"stroke:#000000; stroke-linecap:round; stroke-linejoin:round; stroke-width:2; stroke-opacity:0.1; fill:none\" points=\"1833.17,1486.45 1833.17,47.2441 \"/>\n",
       "<polyline clip-path=\"url(#clip582)\" style=\"stroke:#000000; stroke-linecap:round; stroke-linejoin:round; stroke-width:2; stroke-opacity:0.1; fill:none\" points=\"2290.95,1486.45 2290.95,47.2441 \"/>\n",
       "<polyline clip-path=\"url(#clip580)\" style=\"stroke:#000000; stroke-linecap:round; stroke-linejoin:round; stroke-width:4; stroke-opacity:1; fill:none\" points=\"169.121,1486.45 2352.76,1486.45 \"/>\n",
       "<polyline clip-path=\"url(#clip580)\" style=\"stroke:#000000; stroke-linecap:round; stroke-linejoin:round; stroke-width:4; stroke-opacity:1; fill:none\" points=\"459.815,1486.45 459.815,1467.55 \"/>\n",
       "<polyline clip-path=\"url(#clip580)\" style=\"stroke:#000000; stroke-linecap:round; stroke-linejoin:round; stroke-width:4; stroke-opacity:1; fill:none\" points=\"917.6,1486.45 917.6,1467.55 \"/>\n",
       "<polyline clip-path=\"url(#clip580)\" style=\"stroke:#000000; stroke-linecap:round; stroke-linejoin:round; stroke-width:4; stroke-opacity:1; fill:none\" points=\"1375.38,1486.45 1375.38,1467.55 \"/>\n",
       "<polyline clip-path=\"url(#clip580)\" style=\"stroke:#000000; stroke-linecap:round; stroke-linejoin:round; stroke-width:4; stroke-opacity:1; fill:none\" points=\"1833.17,1486.45 1833.17,1467.55 \"/>\n",
       "<polyline clip-path=\"url(#clip580)\" style=\"stroke:#000000; stroke-linecap:round; stroke-linejoin:round; stroke-width:4; stroke-opacity:1; fill:none\" points=\"2290.95,1486.45 2290.95,1467.55 \"/>\n",
       "<path clip-path=\"url(#clip580)\" d=\"M454.468 1544.91 L470.787 1544.91 L470.787 1548.85 L448.843 1548.85 L448.843 1544.91 Q451.505 1542.16 456.088 1537.53 Q460.694 1532.88 461.875 1531.53 Q464.12 1529.01 465 1527.27 Q465.903 1525.51 465.903 1523.82 Q465.903 1521.07 463.958 1519.33 Q462.037 1517.6 458.935 1517.6 Q456.736 1517.6 454.282 1518.36 Q451.852 1519.13 449.074 1520.68 L449.074 1515.95 Q451.898 1514.82 454.352 1514.24 Q456.806 1513.66 458.843 1513.66 Q464.213 1513.66 467.407 1516.35 Q470.602 1519.03 470.602 1523.52 Q470.602 1525.65 469.792 1527.57 Q469.005 1529.47 466.898 1532.07 Q466.319 1532.74 463.218 1535.95 Q460.116 1539.15 454.468 1544.91 Z\" fill=\"#000000\" fill-rule=\"nonzero\" fill-opacity=\"1\" /><path clip-path=\"url(#clip580)\" d=\"M920.609 1518.36 L908.804 1536.81 L920.609 1536.81 L920.609 1518.36 M919.382 1514.29 L925.262 1514.29 L925.262 1536.81 L930.192 1536.81 L930.192 1540.7 L925.262 1540.7 L925.262 1548.85 L920.609 1548.85 L920.609 1540.7 L905.007 1540.7 L905.007 1536.19 L919.382 1514.29 Z\" fill=\"#000000\" fill-rule=\"nonzero\" fill-opacity=\"1\" /><path clip-path=\"url(#clip580)\" d=\"M1375.79 1529.7 Q1372.64 1529.7 1370.79 1531.86 Q1368.96 1534.01 1368.96 1537.76 Q1368.96 1541.49 1370.79 1543.66 Q1372.64 1545.82 1375.79 1545.82 Q1378.94 1545.82 1380.77 1543.66 Q1382.62 1541.49 1382.62 1537.76 Q1382.62 1534.01 1380.77 1531.86 Q1378.94 1529.7 1375.79 1529.7 M1385.07 1515.05 L1385.07 1519.31 Q1383.31 1518.48 1381.51 1518.04 Q1379.73 1517.6 1377.97 1517.6 Q1373.34 1517.6 1370.88 1520.72 Q1368.45 1523.85 1368.1 1530.17 Q1369.47 1528.15 1371.53 1527.09 Q1373.59 1526 1376.07 1526 Q1381.28 1526 1384.29 1529.17 Q1387.32 1532.32 1387.32 1537.76 Q1387.32 1543.08 1384.17 1546.3 Q1381.02 1549.52 1375.79 1549.52 Q1369.79 1549.52 1366.62 1544.94 Q1363.45 1540.33 1363.45 1531.6 Q1363.45 1523.41 1367.34 1518.55 Q1371.23 1513.66 1377.78 1513.66 Q1379.54 1513.66 1381.32 1514.01 Q1383.13 1514.36 1385.07 1515.05 Z\" fill=\"#000000\" fill-rule=\"nonzero\" fill-opacity=\"1\" /><path clip-path=\"url(#clip580)\" d=\"M1833.17 1532.44 Q1829.84 1532.44 1827.92 1534.22 Q1826.02 1536 1826.02 1539.13 Q1826.02 1542.25 1827.92 1544.03 Q1829.84 1545.82 1833.17 1545.82 Q1836.5 1545.82 1838.42 1544.03 Q1840.35 1542.23 1840.35 1539.13 Q1840.35 1536 1838.42 1534.22 Q1836.53 1532.44 1833.17 1532.44 M1828.49 1530.45 Q1825.48 1529.7 1823.79 1527.64 Q1822.13 1525.58 1822.13 1522.62 Q1822.13 1518.48 1825.07 1516.07 Q1828.03 1513.66 1833.17 1513.66 Q1838.33 1513.66 1841.27 1516.07 Q1844.21 1518.48 1844.21 1522.62 Q1844.21 1525.58 1842.52 1527.64 Q1840.86 1529.7 1837.87 1530.45 Q1841.25 1531.23 1843.12 1533.52 Q1845.02 1535.82 1845.02 1539.13 Q1845.02 1544.15 1841.94 1546.83 Q1838.89 1549.52 1833.17 1549.52 Q1827.45 1549.52 1824.37 1546.83 Q1821.32 1544.15 1821.32 1539.13 Q1821.32 1535.82 1823.22 1533.52 Q1825.11 1531.23 1828.49 1530.45 M1826.78 1523.06 Q1826.78 1525.75 1828.45 1527.25 Q1830.14 1528.76 1833.17 1528.76 Q1836.18 1528.76 1837.87 1527.25 Q1839.58 1525.75 1839.58 1523.06 Q1839.58 1520.38 1837.87 1518.87 Q1836.18 1517.37 1833.17 1517.37 Q1830.14 1517.37 1828.45 1518.87 Q1826.78 1520.38 1826.78 1523.06 Z\" fill=\"#000000\" fill-rule=\"nonzero\" fill-opacity=\"1\" /><path clip-path=\"url(#clip580)\" d=\"M2265.64 1544.91 L2273.28 1544.91 L2273.28 1518.55 L2264.97 1520.21 L2264.97 1515.95 L2273.24 1514.29 L2277.91 1514.29 L2277.91 1544.91 L2285.55 1544.91 L2285.55 1548.85 L2265.64 1548.85 L2265.64 1544.91 Z\" fill=\"#000000\" fill-rule=\"nonzero\" fill-opacity=\"1\" /><path clip-path=\"url(#clip580)\" d=\"M2304.99 1517.37 Q2301.38 1517.37 2299.55 1520.93 Q2297.75 1524.47 2297.75 1531.6 Q2297.75 1538.71 2299.55 1542.27 Q2301.38 1545.82 2304.99 1545.82 Q2308.63 1545.82 2310.43 1542.27 Q2312.26 1538.71 2312.26 1531.6 Q2312.26 1524.47 2310.43 1520.93 Q2308.63 1517.37 2304.99 1517.37 M2304.99 1513.66 Q2310.8 1513.66 2313.86 1518.27 Q2316.94 1522.85 2316.94 1531.6 Q2316.94 1540.33 2313.86 1544.94 Q2310.8 1549.52 2304.99 1549.52 Q2299.18 1549.52 2296.11 1544.94 Q2293.05 1540.33 2293.05 1531.6 Q2293.05 1522.85 2296.11 1518.27 Q2299.18 1513.66 2304.99 1513.66 Z\" fill=\"#000000\" fill-rule=\"nonzero\" fill-opacity=\"1\" /><polyline clip-path=\"url(#clip582)\" style=\"stroke:#000000; stroke-linecap:round; stroke-linejoin:round; stroke-width:2; stroke-opacity:0.1; fill:none\" points=\"169.121,1459.43 2352.76,1459.43 \"/>\n",
       "<polyline clip-path=\"url(#clip582)\" style=\"stroke:#000000; stroke-linecap:round; stroke-linejoin:round; stroke-width:2; stroke-opacity:0.1; fill:none\" points=\"169.121,1116.57 2352.76,1116.57 \"/>\n",
       "<polyline clip-path=\"url(#clip582)\" style=\"stroke:#000000; stroke-linecap:round; stroke-linejoin:round; stroke-width:2; stroke-opacity:0.1; fill:none\" points=\"169.121,773.703 2352.76,773.703 \"/>\n",
       "<polyline clip-path=\"url(#clip582)\" style=\"stroke:#000000; stroke-linecap:round; stroke-linejoin:round; stroke-width:2; stroke-opacity:0.1; fill:none\" points=\"169.121,430.84 2352.76,430.84 \"/>\n",
       "<polyline clip-path=\"url(#clip582)\" style=\"stroke:#000000; stroke-linecap:round; stroke-linejoin:round; stroke-width:2; stroke-opacity:0.1; fill:none\" points=\"169.121,87.9763 2352.76,87.9763 \"/>\n",
       "<polyline clip-path=\"url(#clip580)\" style=\"stroke:#000000; stroke-linecap:round; stroke-linejoin:round; stroke-width:4; stroke-opacity:1; fill:none\" points=\"169.121,1486.45 169.121,47.2441 \"/>\n",
       "<polyline clip-path=\"url(#clip580)\" style=\"stroke:#000000; stroke-linecap:round; stroke-linejoin:round; stroke-width:4; stroke-opacity:1; fill:none\" points=\"169.121,1459.43 188.019,1459.43 \"/>\n",
       "<polyline clip-path=\"url(#clip580)\" style=\"stroke:#000000; stroke-linecap:round; stroke-linejoin:round; stroke-width:4; stroke-opacity:1; fill:none\" points=\"169.121,1116.57 188.019,1116.57 \"/>\n",
       "<polyline clip-path=\"url(#clip580)\" style=\"stroke:#000000; stroke-linecap:round; stroke-linejoin:round; stroke-width:4; stroke-opacity:1; fill:none\" points=\"169.121,773.703 188.019,773.703 \"/>\n",
       "<polyline clip-path=\"url(#clip580)\" style=\"stroke:#000000; stroke-linecap:round; stroke-linejoin:round; stroke-width:4; stroke-opacity:1; fill:none\" points=\"169.121,430.84 188.019,430.84 \"/>\n",
       "<polyline clip-path=\"url(#clip580)\" style=\"stroke:#000000; stroke-linecap:round; stroke-linejoin:round; stroke-width:4; stroke-opacity:1; fill:none\" points=\"169.121,87.9763 188.019,87.9763 \"/>\n",
       "<path clip-path=\"url(#clip580)\" d=\"M121.177 1445.23 Q117.566 1445.23 115.737 1448.79 Q113.932 1452.34 113.932 1459.46 Q113.932 1466.57 115.737 1470.14 Q117.566 1473.68 121.177 1473.68 Q124.811 1473.68 126.617 1470.14 Q128.445 1466.57 128.445 1459.46 Q128.445 1452.34 126.617 1448.79 Q124.811 1445.23 121.177 1445.23 M121.177 1441.53 Q126.987 1441.53 130.043 1446.13 Q133.121 1450.72 133.121 1459.46 Q133.121 1468.19 130.043 1472.8 Q126.987 1477.38 121.177 1477.38 Q115.367 1477.38 112.288 1472.8 Q109.233 1468.19 109.233 1459.46 Q109.233 1450.72 112.288 1446.13 Q115.367 1441.53 121.177 1441.53 Z\" fill=\"#000000\" fill-rule=\"nonzero\" fill-opacity=\"1\" /><path clip-path=\"url(#clip580)\" d=\"M86.0382 1129.91 L102.358 1129.91 L102.358 1133.85 L80.4133 1133.85 L80.4133 1129.91 Q83.0753 1127.16 87.6586 1122.53 Q92.2651 1117.87 93.4456 1116.53 Q95.691 1114.01 96.5706 1112.27 Q97.4734 1110.51 97.4734 1108.82 Q97.4734 1106.07 95.5289 1104.33 Q93.6076 1102.6 90.5058 1102.6 Q88.3067 1102.6 85.8531 1103.36 Q83.4225 1104.12 80.6447 1105.68 L80.6447 1100.95 Q83.4688 1099.82 85.9225 1099.24 Q88.3762 1098.66 90.4132 1098.66 Q95.7836 1098.66 98.978 1101.35 Q102.172 1104.03 102.172 1108.52 Q102.172 1110.65 101.362 1112.57 Q100.575 1114.47 98.4687 1117.06 Q97.89 1117.74 94.7882 1120.95 Q91.6864 1124.15 86.0382 1129.91 Z\" fill=\"#000000\" fill-rule=\"nonzero\" fill-opacity=\"1\" /><path clip-path=\"url(#clip580)\" d=\"M112.219 1099.29 L130.575 1099.29 L130.575 1103.22 L116.501 1103.22 L116.501 1111.69 Q117.52 1111.35 118.538 1111.18 Q119.557 1111 120.575 1111 Q126.362 1111 129.742 1114.17 Q133.121 1117.34 133.121 1122.76 Q133.121 1128.34 129.649 1131.44 Q126.177 1134.52 119.857 1134.52 Q117.682 1134.52 115.413 1134.15 Q113.168 1133.78 110.76 1133.04 L110.76 1128.34 Q112.844 1129.47 115.066 1130.03 Q117.288 1130.58 119.765 1130.58 Q123.77 1130.58 126.107 1128.48 Q128.445 1126.37 128.445 1122.76 Q128.445 1119.15 126.107 1117.04 Q123.77 1114.93 119.765 1114.93 Q117.89 1114.93 116.015 1115.35 Q114.163 1115.77 112.219 1116.65 L112.219 1099.29 Z\" fill=\"#000000\" fill-rule=\"nonzero\" fill-opacity=\"1\" /><path clip-path=\"url(#clip580)\" d=\"M81.0614 756.423 L99.4178 756.423 L99.4178 760.358 L85.3438 760.358 L85.3438 768.831 Q86.3623 768.483 87.3808 768.321 Q88.3993 768.136 89.4178 768.136 Q95.2049 768.136 98.5845 771.307 Q101.964 774.479 101.964 779.895 Q101.964 785.474 98.4919 788.576 Q95.0197 791.655 88.7003 791.655 Q86.5243 791.655 84.2558 791.284 Q82.0105 790.914 79.6031 790.173 L79.6031 785.474 Q81.6864 786.608 83.9086 787.164 Q86.1308 787.719 88.6077 787.719 Q92.6123 787.719 94.9502 785.613 Q97.2882 783.506 97.2882 779.895 Q97.2882 776.284 94.9502 774.178 Q92.6123 772.071 88.6077 772.071 Q86.7327 772.071 84.8577 772.488 Q83.0058 772.905 81.0614 773.784 L81.0614 756.423 Z\" fill=\"#000000\" fill-rule=\"nonzero\" fill-opacity=\"1\" /><path clip-path=\"url(#clip580)\" d=\"M121.177 759.502 Q117.566 759.502 115.737 763.067 Q113.932 766.608 113.932 773.738 Q113.932 780.844 115.737 784.409 Q117.566 787.951 121.177 787.951 Q124.811 787.951 126.617 784.409 Q128.445 780.844 128.445 773.738 Q128.445 766.608 126.617 763.067 Q124.811 759.502 121.177 759.502 M121.177 755.798 Q126.987 755.798 130.043 760.405 Q133.121 764.988 133.121 773.738 Q133.121 782.465 130.043 787.071 Q126.987 791.655 121.177 791.655 Q115.367 791.655 112.288 787.071 Q109.233 782.465 109.233 773.738 Q109.233 764.988 112.288 760.405 Q115.367 755.798 121.177 755.798 Z\" fill=\"#000000\" fill-rule=\"nonzero\" fill-opacity=\"1\" /><path clip-path=\"url(#clip580)\" d=\"M80.8299 413.56 L103.052 413.56 L103.052 415.55 L90.5058 448.12 L85.6216 448.12 L97.4271 417.495 L80.8299 417.495 L80.8299 413.56 Z\" fill=\"#000000\" fill-rule=\"nonzero\" fill-opacity=\"1\" /><path clip-path=\"url(#clip580)\" d=\"M112.219 413.56 L130.575 413.56 L130.575 417.495 L116.501 417.495 L116.501 425.967 Q117.52 425.62 118.538 425.458 Q119.557 425.273 120.575 425.273 Q126.362 425.273 129.742 428.444 Q133.121 431.615 133.121 437.032 Q133.121 442.611 129.649 445.712 Q126.177 448.791 119.857 448.791 Q117.682 448.791 115.413 448.421 Q113.168 448.05 110.76 447.31 L110.76 442.611 Q112.844 443.745 115.066 444.3 Q117.288 444.856 119.765 444.856 Q123.77 444.856 126.107 442.749 Q128.445 440.643 128.445 437.032 Q128.445 433.421 126.107 431.314 Q123.77 429.208 119.765 429.208 Q117.89 429.208 116.015 429.624 Q114.163 430.041 112.219 430.921 L112.219 413.56 Z\" fill=\"#000000\" fill-rule=\"nonzero\" fill-opacity=\"1\" /><path clip-path=\"url(#clip580)\" d=\"M51.6634 101.321 L59.3023 101.321 L59.3023 74.9555 L50.9921 76.6222 L50.9921 72.3629 L59.256 70.6963 L63.9319 70.6963 L63.9319 101.321 L71.5707 101.321 L71.5707 105.256 L51.6634 105.256 L51.6634 101.321 Z\" fill=\"#000000\" fill-rule=\"nonzero\" fill-opacity=\"1\" /><path clip-path=\"url(#clip580)\" d=\"M91.0151 73.775 Q87.404 73.775 85.5753 77.3398 Q83.7697 80.8814 83.7697 88.011 Q83.7697 95.1174 85.5753 98.6822 Q87.404 102.224 91.0151 102.224 Q94.6493 102.224 96.4548 98.6822 Q98.2835 95.1174 98.2835 88.011 Q98.2835 80.8814 96.4548 77.3398 Q94.6493 73.775 91.0151 73.775 M91.0151 70.0713 Q96.8252 70.0713 99.8808 74.6777 Q102.959 79.261 102.959 88.011 Q102.959 96.7378 99.8808 101.344 Q96.8252 105.928 91.0151 105.928 Q85.2049 105.928 82.1262 101.344 Q79.0707 96.7378 79.0707 88.011 Q79.0707 79.261 82.1262 74.6777 Q85.2049 70.0713 91.0151 70.0713 Z\" fill=\"#000000\" fill-rule=\"nonzero\" fill-opacity=\"1\" /><path clip-path=\"url(#clip580)\" d=\"M121.177 73.775 Q117.566 73.775 115.737 77.3398 Q113.932 80.8814 113.932 88.011 Q113.932 95.1174 115.737 98.6822 Q117.566 102.224 121.177 102.224 Q124.811 102.224 126.617 98.6822 Q128.445 95.1174 128.445 88.011 Q128.445 80.8814 126.617 77.3398 Q124.811 73.775 121.177 73.775 M121.177 70.0713 Q126.987 70.0713 130.043 74.6777 Q133.121 79.261 133.121 88.011 Q133.121 96.7378 130.043 101.344 Q126.987 105.928 121.177 105.928 Q115.367 105.928 112.288 101.344 Q109.233 96.7378 109.233 88.011 Q109.233 79.261 112.288 74.6777 Q115.367 70.0713 121.177 70.0713 Z\" fill=\"#000000\" fill-rule=\"nonzero\" fill-opacity=\"1\" /><polyline clip-path=\"url(#clip582)\" style=\"stroke:#009af9; stroke-linecap:round; stroke-linejoin:round; stroke-width:4; stroke-opacity:1; fill:none\" points=\"230.922,1445.72 459.815,1404.57 688.707,1336 917.6,1240 1146.49,1116.57 1375.38,965.707 1604.28,787.418 1833.17,581.7 2062.06,348.553 2290.95,87.9763 \"/>\n",
       "<path clip-path=\"url(#clip580)\" d=\"M241.909 198.898 L512.703 198.898 L512.703 95.2176 L241.909 95.2176  Z\" fill=\"#ffffff\" fill-rule=\"evenodd\" fill-opacity=\"1\"/>\n",
       "<polyline clip-path=\"url(#clip580)\" style=\"stroke:#000000; stroke-linecap:round; stroke-linejoin:round; stroke-width:4; stroke-opacity:1; fill:none\" points=\"241.909,198.898 512.703,198.898 512.703,95.2176 241.909,95.2176 241.909,198.898 \"/>\n",
       "<polyline clip-path=\"url(#clip580)\" style=\"stroke:#009af9; stroke-linecap:round; stroke-linejoin:round; stroke-width:4; stroke-opacity:1; fill:none\" points=\"266.172,147.058 411.747,147.058 \"/>\n",
       "<path clip-path=\"url(#clip580)\" d=\"M449.853 166.745 Q448.047 171.375 446.334 172.787 Q444.621 174.199 441.751 174.199 L438.348 174.199 L438.348 170.634 L440.848 170.634 Q442.607 170.634 443.579 169.8 Q444.552 168.967 445.732 165.865 L446.496 163.921 L436.01 138.412 L440.524 138.412 L448.626 158.689 L456.727 138.412 L461.241 138.412 L449.853 166.745 Z\" fill=\"#000000\" fill-rule=\"nonzero\" fill-opacity=\"1\" /><path clip-path=\"url(#clip580)\" d=\"M468.533 160.402 L476.172 160.402 L476.172 134.037 L467.862 135.703 L467.862 131.444 L476.126 129.778 L480.801 129.778 L480.801 160.402 L488.44 160.402 L488.44 164.338 L468.533 164.338 L468.533 160.402 Z\" fill=\"#000000\" fill-rule=\"nonzero\" fill-opacity=\"1\" /></svg>\n"
      ],
      "image/svg+xml": [
       "<?xml version=\"1.0\" encoding=\"utf-8\"?>\n",
       "<svg xmlns=\"http://www.w3.org/2000/svg\" xmlns:xlink=\"http://www.w3.org/1999/xlink\" width=\"600\" height=\"400\" viewBox=\"0 0 2400 1600\">\n",
       "<defs>\n",
       "  <clipPath id=\"clip550\">\n",
       "    <rect x=\"0\" y=\"0\" width=\"2400\" height=\"1600\"/>\n",
       "  </clipPath>\n",
       "</defs>\n",
       "<path clip-path=\"url(#clip550)\" d=\"M0 1600 L2400 1600 L2400 0 L0 0  Z\" fill=\"#ffffff\" fill-rule=\"evenodd\" fill-opacity=\"1\"/>\n",
       "<defs>\n",
       "  <clipPath id=\"clip551\">\n",
       "    <rect x=\"480\" y=\"0\" width=\"1681\" height=\"1600\"/>\n",
       "  </clipPath>\n",
       "</defs>\n",
       "<path clip-path=\"url(#clip550)\" d=\"M169.121 1486.45 L2352.76 1486.45 L2352.76 47.2441 L169.121 47.2441  Z\" fill=\"#ffffff\" fill-rule=\"evenodd\" fill-opacity=\"1\"/>\n",
       "<defs>\n",
       "  <clipPath id=\"clip552\">\n",
       "    <rect x=\"169\" y=\"47\" width=\"2185\" height=\"1440\"/>\n",
       "  </clipPath>\n",
       "</defs>\n",
       "<polyline clip-path=\"url(#clip552)\" style=\"stroke:#000000; stroke-linecap:round; stroke-linejoin:round; stroke-width:2; stroke-opacity:0.1; fill:none\" points=\"459.815,1486.45 459.815,47.2441 \"/>\n",
       "<polyline clip-path=\"url(#clip552)\" style=\"stroke:#000000; stroke-linecap:round; stroke-linejoin:round; stroke-width:2; stroke-opacity:0.1; fill:none\" points=\"917.6,1486.45 917.6,47.2441 \"/>\n",
       "<polyline clip-path=\"url(#clip552)\" style=\"stroke:#000000; stroke-linecap:round; stroke-linejoin:round; stroke-width:2; stroke-opacity:0.1; fill:none\" points=\"1375.38,1486.45 1375.38,47.2441 \"/>\n",
       "<polyline clip-path=\"url(#clip552)\" style=\"stroke:#000000; stroke-linecap:round; stroke-linejoin:round; stroke-width:2; stroke-opacity:0.1; fill:none\" points=\"1833.17,1486.45 1833.17,47.2441 \"/>\n",
       "<polyline clip-path=\"url(#clip552)\" style=\"stroke:#000000; stroke-linecap:round; stroke-linejoin:round; stroke-width:2; stroke-opacity:0.1; fill:none\" points=\"2290.95,1486.45 2290.95,47.2441 \"/>\n",
       "<polyline clip-path=\"url(#clip550)\" style=\"stroke:#000000; stroke-linecap:round; stroke-linejoin:round; stroke-width:4; stroke-opacity:1; fill:none\" points=\"169.121,1486.45 2352.76,1486.45 \"/>\n",
       "<polyline clip-path=\"url(#clip550)\" style=\"stroke:#000000; stroke-linecap:round; stroke-linejoin:round; stroke-width:4; stroke-opacity:1; fill:none\" points=\"459.815,1486.45 459.815,1467.55 \"/>\n",
       "<polyline clip-path=\"url(#clip550)\" style=\"stroke:#000000; stroke-linecap:round; stroke-linejoin:round; stroke-width:4; stroke-opacity:1; fill:none\" points=\"917.6,1486.45 917.6,1467.55 \"/>\n",
       "<polyline clip-path=\"url(#clip550)\" style=\"stroke:#000000; stroke-linecap:round; stroke-linejoin:round; stroke-width:4; stroke-opacity:1; fill:none\" points=\"1375.38,1486.45 1375.38,1467.55 \"/>\n",
       "<polyline clip-path=\"url(#clip550)\" style=\"stroke:#000000; stroke-linecap:round; stroke-linejoin:round; stroke-width:4; stroke-opacity:1; fill:none\" points=\"1833.17,1486.45 1833.17,1467.55 \"/>\n",
       "<polyline clip-path=\"url(#clip550)\" style=\"stroke:#000000; stroke-linecap:round; stroke-linejoin:round; stroke-width:4; stroke-opacity:1; fill:none\" points=\"2290.95,1486.45 2290.95,1467.55 \"/>\n",
       "<path clip-path=\"url(#clip550)\" d=\"M454.468 1544.91 L470.787 1544.91 L470.787 1548.85 L448.843 1548.85 L448.843 1544.91 Q451.505 1542.16 456.088 1537.53 Q460.694 1532.88 461.875 1531.53 Q464.12 1529.01 465 1527.27 Q465.903 1525.51 465.903 1523.82 Q465.903 1521.07 463.958 1519.33 Q462.037 1517.6 458.935 1517.6 Q456.736 1517.6 454.282 1518.36 Q451.852 1519.13 449.074 1520.68 L449.074 1515.95 Q451.898 1514.82 454.352 1514.24 Q456.806 1513.66 458.843 1513.66 Q464.213 1513.66 467.407 1516.35 Q470.602 1519.03 470.602 1523.52 Q470.602 1525.65 469.792 1527.57 Q469.005 1529.47 466.898 1532.07 Q466.319 1532.74 463.218 1535.95 Q460.116 1539.15 454.468 1544.91 Z\" fill=\"#000000\" fill-rule=\"nonzero\" fill-opacity=\"1\" /><path clip-path=\"url(#clip550)\" d=\"M920.609 1518.36 L908.804 1536.81 L920.609 1536.81 L920.609 1518.36 M919.382 1514.29 L925.262 1514.29 L925.262 1536.81 L930.192 1536.81 L930.192 1540.7 L925.262 1540.7 L925.262 1548.85 L920.609 1548.85 L920.609 1540.7 L905.007 1540.7 L905.007 1536.19 L919.382 1514.29 Z\" fill=\"#000000\" fill-rule=\"nonzero\" fill-opacity=\"1\" /><path clip-path=\"url(#clip550)\" d=\"M1375.79 1529.7 Q1372.64 1529.7 1370.79 1531.86 Q1368.96 1534.01 1368.96 1537.76 Q1368.96 1541.49 1370.79 1543.66 Q1372.64 1545.82 1375.79 1545.82 Q1378.94 1545.82 1380.77 1543.66 Q1382.62 1541.49 1382.62 1537.76 Q1382.62 1534.01 1380.77 1531.86 Q1378.94 1529.7 1375.79 1529.7 M1385.07 1515.05 L1385.07 1519.31 Q1383.31 1518.48 1381.51 1518.04 Q1379.73 1517.6 1377.97 1517.6 Q1373.34 1517.6 1370.88 1520.72 Q1368.45 1523.85 1368.1 1530.17 Q1369.47 1528.15 1371.53 1527.09 Q1373.59 1526 1376.07 1526 Q1381.28 1526 1384.29 1529.17 Q1387.32 1532.32 1387.32 1537.76 Q1387.32 1543.08 1384.17 1546.3 Q1381.02 1549.52 1375.79 1549.52 Q1369.79 1549.52 1366.62 1544.94 Q1363.45 1540.33 1363.45 1531.6 Q1363.45 1523.41 1367.34 1518.55 Q1371.23 1513.66 1377.78 1513.66 Q1379.54 1513.66 1381.32 1514.01 Q1383.13 1514.36 1385.07 1515.05 Z\" fill=\"#000000\" fill-rule=\"nonzero\" fill-opacity=\"1\" /><path clip-path=\"url(#clip550)\" d=\"M1833.17 1532.44 Q1829.84 1532.44 1827.92 1534.22 Q1826.02 1536 1826.02 1539.13 Q1826.02 1542.25 1827.92 1544.03 Q1829.84 1545.82 1833.17 1545.82 Q1836.5 1545.82 1838.42 1544.03 Q1840.35 1542.23 1840.35 1539.13 Q1840.35 1536 1838.42 1534.22 Q1836.53 1532.44 1833.17 1532.44 M1828.49 1530.45 Q1825.48 1529.7 1823.79 1527.64 Q1822.13 1525.58 1822.13 1522.62 Q1822.13 1518.48 1825.07 1516.07 Q1828.03 1513.66 1833.17 1513.66 Q1838.33 1513.66 1841.27 1516.07 Q1844.21 1518.48 1844.21 1522.62 Q1844.21 1525.58 1842.52 1527.64 Q1840.86 1529.7 1837.87 1530.45 Q1841.25 1531.23 1843.12 1533.52 Q1845.02 1535.82 1845.02 1539.13 Q1845.02 1544.15 1841.94 1546.83 Q1838.89 1549.52 1833.17 1549.52 Q1827.45 1549.52 1824.37 1546.83 Q1821.32 1544.15 1821.32 1539.13 Q1821.32 1535.82 1823.22 1533.52 Q1825.11 1531.23 1828.49 1530.45 M1826.78 1523.06 Q1826.78 1525.75 1828.45 1527.25 Q1830.14 1528.76 1833.17 1528.76 Q1836.18 1528.76 1837.87 1527.25 Q1839.58 1525.75 1839.58 1523.06 Q1839.58 1520.38 1837.87 1518.87 Q1836.18 1517.37 1833.17 1517.37 Q1830.14 1517.37 1828.45 1518.87 Q1826.78 1520.38 1826.78 1523.06 Z\" fill=\"#000000\" fill-rule=\"nonzero\" fill-opacity=\"1\" /><path clip-path=\"url(#clip550)\" d=\"M2265.64 1544.91 L2273.28 1544.91 L2273.28 1518.55 L2264.97 1520.21 L2264.97 1515.95 L2273.24 1514.29 L2277.91 1514.29 L2277.91 1544.91 L2285.55 1544.91 L2285.55 1548.85 L2265.64 1548.85 L2265.64 1544.91 Z\" fill=\"#000000\" fill-rule=\"nonzero\" fill-opacity=\"1\" /><path clip-path=\"url(#clip550)\" d=\"M2304.99 1517.37 Q2301.38 1517.37 2299.55 1520.93 Q2297.75 1524.47 2297.75 1531.6 Q2297.75 1538.71 2299.55 1542.27 Q2301.38 1545.82 2304.99 1545.82 Q2308.63 1545.82 2310.43 1542.27 Q2312.26 1538.71 2312.26 1531.6 Q2312.26 1524.47 2310.43 1520.93 Q2308.63 1517.37 2304.99 1517.37 M2304.99 1513.66 Q2310.8 1513.66 2313.86 1518.27 Q2316.94 1522.85 2316.94 1531.6 Q2316.94 1540.33 2313.86 1544.94 Q2310.8 1549.52 2304.99 1549.52 Q2299.18 1549.52 2296.11 1544.94 Q2293.05 1540.33 2293.05 1531.6 Q2293.05 1522.85 2296.11 1518.27 Q2299.18 1513.66 2304.99 1513.66 Z\" fill=\"#000000\" fill-rule=\"nonzero\" fill-opacity=\"1\" /><polyline clip-path=\"url(#clip552)\" style=\"stroke:#000000; stroke-linecap:round; stroke-linejoin:round; stroke-width:2; stroke-opacity:0.1; fill:none\" points=\"169.121,1459.43 2352.76,1459.43 \"/>\n",
       "<polyline clip-path=\"url(#clip552)\" style=\"stroke:#000000; stroke-linecap:round; stroke-linejoin:round; stroke-width:2; stroke-opacity:0.1; fill:none\" points=\"169.121,1116.57 2352.76,1116.57 \"/>\n",
       "<polyline clip-path=\"url(#clip552)\" style=\"stroke:#000000; stroke-linecap:round; stroke-linejoin:round; stroke-width:2; stroke-opacity:0.1; fill:none\" points=\"169.121,773.703 2352.76,773.703 \"/>\n",
       "<polyline clip-path=\"url(#clip552)\" style=\"stroke:#000000; stroke-linecap:round; stroke-linejoin:round; stroke-width:2; stroke-opacity:0.1; fill:none\" points=\"169.121,430.84 2352.76,430.84 \"/>\n",
       "<polyline clip-path=\"url(#clip552)\" style=\"stroke:#000000; stroke-linecap:round; stroke-linejoin:round; stroke-width:2; stroke-opacity:0.1; fill:none\" points=\"169.121,87.9763 2352.76,87.9763 \"/>\n",
       "<polyline clip-path=\"url(#clip550)\" style=\"stroke:#000000; stroke-linecap:round; stroke-linejoin:round; stroke-width:4; stroke-opacity:1; fill:none\" points=\"169.121,1486.45 169.121,47.2441 \"/>\n",
       "<polyline clip-path=\"url(#clip550)\" style=\"stroke:#000000; stroke-linecap:round; stroke-linejoin:round; stroke-width:4; stroke-opacity:1; fill:none\" points=\"169.121,1459.43 188.019,1459.43 \"/>\n",
       "<polyline clip-path=\"url(#clip550)\" style=\"stroke:#000000; stroke-linecap:round; stroke-linejoin:round; stroke-width:4; stroke-opacity:1; fill:none\" points=\"169.121,1116.57 188.019,1116.57 \"/>\n",
       "<polyline clip-path=\"url(#clip550)\" style=\"stroke:#000000; stroke-linecap:round; stroke-linejoin:round; stroke-width:4; stroke-opacity:1; fill:none\" points=\"169.121,773.703 188.019,773.703 \"/>\n",
       "<polyline clip-path=\"url(#clip550)\" style=\"stroke:#000000; stroke-linecap:round; stroke-linejoin:round; stroke-width:4; stroke-opacity:1; fill:none\" points=\"169.121,430.84 188.019,430.84 \"/>\n",
       "<polyline clip-path=\"url(#clip550)\" style=\"stroke:#000000; stroke-linecap:round; stroke-linejoin:round; stroke-width:4; stroke-opacity:1; fill:none\" points=\"169.121,87.9763 188.019,87.9763 \"/>\n",
       "<path clip-path=\"url(#clip550)\" d=\"M121.177 1445.23 Q117.566 1445.23 115.737 1448.79 Q113.932 1452.34 113.932 1459.46 Q113.932 1466.57 115.737 1470.14 Q117.566 1473.68 121.177 1473.68 Q124.811 1473.68 126.617 1470.14 Q128.445 1466.57 128.445 1459.46 Q128.445 1452.34 126.617 1448.79 Q124.811 1445.23 121.177 1445.23 M121.177 1441.53 Q126.987 1441.53 130.043 1446.13 Q133.121 1450.72 133.121 1459.46 Q133.121 1468.19 130.043 1472.8 Q126.987 1477.38 121.177 1477.38 Q115.367 1477.38 112.288 1472.8 Q109.233 1468.19 109.233 1459.46 Q109.233 1450.72 112.288 1446.13 Q115.367 1441.53 121.177 1441.53 Z\" fill=\"#000000\" fill-rule=\"nonzero\" fill-opacity=\"1\" /><path clip-path=\"url(#clip550)\" d=\"M86.0382 1129.91 L102.358 1129.91 L102.358 1133.85 L80.4133 1133.85 L80.4133 1129.91 Q83.0753 1127.16 87.6586 1122.53 Q92.2651 1117.87 93.4456 1116.53 Q95.691 1114.01 96.5706 1112.27 Q97.4734 1110.51 97.4734 1108.82 Q97.4734 1106.07 95.5289 1104.33 Q93.6076 1102.6 90.5058 1102.6 Q88.3067 1102.6 85.8531 1103.36 Q83.4225 1104.12 80.6447 1105.68 L80.6447 1100.95 Q83.4688 1099.82 85.9225 1099.24 Q88.3762 1098.66 90.4132 1098.66 Q95.7836 1098.66 98.978 1101.35 Q102.172 1104.03 102.172 1108.52 Q102.172 1110.65 101.362 1112.57 Q100.575 1114.47 98.4687 1117.06 Q97.89 1117.74 94.7882 1120.95 Q91.6864 1124.15 86.0382 1129.91 Z\" fill=\"#000000\" fill-rule=\"nonzero\" fill-opacity=\"1\" /><path clip-path=\"url(#clip550)\" d=\"M112.219 1099.29 L130.575 1099.29 L130.575 1103.22 L116.501 1103.22 L116.501 1111.69 Q117.52 1111.35 118.538 1111.18 Q119.557 1111 120.575 1111 Q126.362 1111 129.742 1114.17 Q133.121 1117.34 133.121 1122.76 Q133.121 1128.34 129.649 1131.44 Q126.177 1134.52 119.857 1134.52 Q117.682 1134.52 115.413 1134.15 Q113.168 1133.78 110.76 1133.04 L110.76 1128.34 Q112.844 1129.47 115.066 1130.03 Q117.288 1130.58 119.765 1130.58 Q123.77 1130.58 126.107 1128.48 Q128.445 1126.37 128.445 1122.76 Q128.445 1119.15 126.107 1117.04 Q123.77 1114.93 119.765 1114.93 Q117.89 1114.93 116.015 1115.35 Q114.163 1115.77 112.219 1116.65 L112.219 1099.29 Z\" fill=\"#000000\" fill-rule=\"nonzero\" fill-opacity=\"1\" /><path clip-path=\"url(#clip550)\" d=\"M81.0614 756.423 L99.4178 756.423 L99.4178 760.358 L85.3438 760.358 L85.3438 768.831 Q86.3623 768.483 87.3808 768.321 Q88.3993 768.136 89.4178 768.136 Q95.2049 768.136 98.5845 771.307 Q101.964 774.479 101.964 779.895 Q101.964 785.474 98.4919 788.576 Q95.0197 791.655 88.7003 791.655 Q86.5243 791.655 84.2558 791.284 Q82.0105 790.914 79.6031 790.173 L79.6031 785.474 Q81.6864 786.608 83.9086 787.164 Q86.1308 787.719 88.6077 787.719 Q92.6123 787.719 94.9502 785.613 Q97.2882 783.506 97.2882 779.895 Q97.2882 776.284 94.9502 774.178 Q92.6123 772.071 88.6077 772.071 Q86.7327 772.071 84.8577 772.488 Q83.0058 772.905 81.0614 773.784 L81.0614 756.423 Z\" fill=\"#000000\" fill-rule=\"nonzero\" fill-opacity=\"1\" /><path clip-path=\"url(#clip550)\" d=\"M121.177 759.502 Q117.566 759.502 115.737 763.067 Q113.932 766.608 113.932 773.738 Q113.932 780.844 115.737 784.409 Q117.566 787.951 121.177 787.951 Q124.811 787.951 126.617 784.409 Q128.445 780.844 128.445 773.738 Q128.445 766.608 126.617 763.067 Q124.811 759.502 121.177 759.502 M121.177 755.798 Q126.987 755.798 130.043 760.405 Q133.121 764.988 133.121 773.738 Q133.121 782.465 130.043 787.071 Q126.987 791.655 121.177 791.655 Q115.367 791.655 112.288 787.071 Q109.233 782.465 109.233 773.738 Q109.233 764.988 112.288 760.405 Q115.367 755.798 121.177 755.798 Z\" fill=\"#000000\" fill-rule=\"nonzero\" fill-opacity=\"1\" /><path clip-path=\"url(#clip550)\" d=\"M80.8299 413.56 L103.052 413.56 L103.052 415.55 L90.5058 448.12 L85.6216 448.12 L97.4271 417.495 L80.8299 417.495 L80.8299 413.56 Z\" fill=\"#000000\" fill-rule=\"nonzero\" fill-opacity=\"1\" /><path clip-path=\"url(#clip550)\" d=\"M112.219 413.56 L130.575 413.56 L130.575 417.495 L116.501 417.495 L116.501 425.967 Q117.52 425.62 118.538 425.458 Q119.557 425.273 120.575 425.273 Q126.362 425.273 129.742 428.444 Q133.121 431.615 133.121 437.032 Q133.121 442.611 129.649 445.712 Q126.177 448.791 119.857 448.791 Q117.682 448.791 115.413 448.421 Q113.168 448.05 110.76 447.31 L110.76 442.611 Q112.844 443.745 115.066 444.3 Q117.288 444.856 119.765 444.856 Q123.77 444.856 126.107 442.749 Q128.445 440.643 128.445 437.032 Q128.445 433.421 126.107 431.314 Q123.77 429.208 119.765 429.208 Q117.89 429.208 116.015 429.624 Q114.163 430.041 112.219 430.921 L112.219 413.56 Z\" fill=\"#000000\" fill-rule=\"nonzero\" fill-opacity=\"1\" /><path clip-path=\"url(#clip550)\" d=\"M51.6634 101.321 L59.3023 101.321 L59.3023 74.9555 L50.9921 76.6222 L50.9921 72.3629 L59.256 70.6963 L63.9319 70.6963 L63.9319 101.321 L71.5707 101.321 L71.5707 105.256 L51.6634 105.256 L51.6634 101.321 Z\" fill=\"#000000\" fill-rule=\"nonzero\" fill-opacity=\"1\" /><path clip-path=\"url(#clip550)\" d=\"M91.0151 73.775 Q87.404 73.775 85.5753 77.3398 Q83.7697 80.8814 83.7697 88.011 Q83.7697 95.1174 85.5753 98.6822 Q87.404 102.224 91.0151 102.224 Q94.6493 102.224 96.4548 98.6822 Q98.2835 95.1174 98.2835 88.011 Q98.2835 80.8814 96.4548 77.3398 Q94.6493 73.775 91.0151 73.775 M91.0151 70.0713 Q96.8252 70.0713 99.8808 74.6777 Q102.959 79.261 102.959 88.011 Q102.959 96.7378 99.8808 101.344 Q96.8252 105.928 91.0151 105.928 Q85.2049 105.928 82.1262 101.344 Q79.0707 96.7378 79.0707 88.011 Q79.0707 79.261 82.1262 74.6777 Q85.2049 70.0713 91.0151 70.0713 Z\" fill=\"#000000\" fill-rule=\"nonzero\" fill-opacity=\"1\" /><path clip-path=\"url(#clip550)\" d=\"M121.177 73.775 Q117.566 73.775 115.737 77.3398 Q113.932 80.8814 113.932 88.011 Q113.932 95.1174 115.737 98.6822 Q117.566 102.224 121.177 102.224 Q124.811 102.224 126.617 98.6822 Q128.445 95.1174 128.445 88.011 Q128.445 80.8814 126.617 77.3398 Q124.811 73.775 121.177 73.775 M121.177 70.0713 Q126.987 70.0713 130.043 74.6777 Q133.121 79.261 133.121 88.011 Q133.121 96.7378 130.043 101.344 Q126.987 105.928 121.177 105.928 Q115.367 105.928 112.288 101.344 Q109.233 96.7378 109.233 88.011 Q109.233 79.261 112.288 74.6777 Q115.367 70.0713 121.177 70.0713 Z\" fill=\"#000000\" fill-rule=\"nonzero\" fill-opacity=\"1\" /><polyline clip-path=\"url(#clip552)\" style=\"stroke:#009af9; stroke-linecap:round; stroke-linejoin:round; stroke-width:4; stroke-opacity:1; fill:none\" points=\"230.922,1445.72 459.815,1404.57 688.707,1336 917.6,1240 1146.49,1116.57 1375.38,965.707 1604.28,787.418 1833.17,581.7 2062.06,348.553 2290.95,87.9763 \"/>\n",
       "<path clip-path=\"url(#clip550)\" d=\"M241.909 198.898 L512.703 198.898 L512.703 95.2176 L241.909 95.2176  Z\" fill=\"#ffffff\" fill-rule=\"evenodd\" fill-opacity=\"1\"/>\n",
       "<polyline clip-path=\"url(#clip550)\" style=\"stroke:#000000; stroke-linecap:round; stroke-linejoin:round; stroke-width:4; stroke-opacity:1; fill:none\" points=\"241.909,198.898 512.703,198.898 512.703,95.2176 241.909,95.2176 241.909,198.898 \"/>\n",
       "<polyline clip-path=\"url(#clip550)\" style=\"stroke:#009af9; stroke-linecap:round; stroke-linejoin:round; stroke-width:4; stroke-opacity:1; fill:none\" points=\"266.172,147.058 411.747,147.058 \"/>\n",
       "<path clip-path=\"url(#clip550)\" d=\"M449.853 166.745 Q448.047 171.375 446.334 172.787 Q444.621 174.199 441.751 174.199 L438.348 174.199 L438.348 170.634 L440.848 170.634 Q442.607 170.634 443.579 169.8 Q444.552 168.967 445.732 165.865 L446.496 163.921 L436.01 138.412 L440.524 138.412 L448.626 158.689 L456.727 138.412 L461.241 138.412 L449.853 166.745 Z\" fill=\"#000000\" fill-rule=\"nonzero\" fill-opacity=\"1\" /><path clip-path=\"url(#clip550)\" d=\"M468.533 160.402 L476.172 160.402 L476.172 134.037 L467.862 135.703 L467.862 131.444 L476.126 129.778 L480.801 129.778 L480.801 160.402 L488.44 160.402 L488.44 164.338 L468.533 164.338 L468.533 160.402 Z\" fill=\"#000000\" fill-rule=\"nonzero\" fill-opacity=\"1\" /></svg>\n"
      ]
     },
     "metadata": {},
     "execution_count": 44
    }
   ],
   "cell_type": "code",
   "source": [
    "using Plots\n",
    "plot( (1:10).^2 )"
   ],
   "metadata": {},
   "execution_count": 44
  },
  {
   "cell_type": "markdown",
   "source": [
    "### Packages\n",
    "\n",
    "**Note** package installation does not work on the moodle-Jupyterhub.  But it will work on your local installation.\n",
    "\n",
    "All public Julia packages are listed on [https://juliahub.com/ui/Packages](https://juliahub.com/ui/Packages).\n",
    "\n",
    "You can install a package, say `UnPack.jl` by\n",
    "```julia-repl\n",
    "using Pkg\n",
    "Pkg.add(\"UnPack.jl\")\n",
    "using UnPack\n",
    "```\n",
    "\n",
    "In the REPL, there is also a package-mode (hit `]`) which is for interactive use."
   ],
   "metadata": {
    "name": "A slide ",
    "slideshow": {
     "slide_type": "subslide"
    }
   }
  },
  {
   "outputs": [],
   "cell_type": "code",
   "source": [
    "# Install a package (maybe not a too big one, UnPack.jl is good that way),\n",
    "# use it, query help on the package itself:"
   ],
   "metadata": {},
   "execution_count": 45
  },
  {
   "cell_type": "markdown",
   "source": [
    "## This concludes the rapid Julia tour\n",
    "\n",
    "There are many more features of Julia for sure but this should get you started, and setup for\n",
    "the exercises.  (Let us know if you feel we left something out which would have been helpful for the exercises).\n",
    "\n",
    "Remember you can self-help with:\n",
    "- using `?` at the notebook.  Similarly there is an `apropos` function.\n",
    "- the docs are your friend [https://docs.julialang.org/en/v1/](https://docs.julialang.org/en/v1/)\n",
    "- ask for help in our chat channel: see Moodle"
   ],
   "metadata": {
    "name": "A slide ",
    "slideshow": {
     "slide_type": "subslide"
    }
   }
  }
 ],
 "nbformat_minor": 3,
 "metadata": {
  "language_info": {
   "file_extension": ".jl",
   "mimetype": "application/julia",
   "name": "julia",
   "version": "1.10.2"
  },
  "kernelspec": {
   "name": "julia-1.10",
   "display_name": "Julia 1.10.2",
   "language": "julia"
  }
 },
 "nbformat": 4
}
